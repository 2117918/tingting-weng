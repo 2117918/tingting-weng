{
 "cells": [
  {
   "cell_type": "code",
   "execution_count": 53,
   "id": "6af66414",
   "metadata": {},
   "outputs": [
    {
     "name": "stdout",
     "output_type": "stream",
     "text": [
      "Original String: University of Warwick\n",
      "No.of Upper case character: 2\n",
      "No.of Lower case Character: 17\n"
     ]
    }
   ],
   "source": [
    "def string_test(s):\n",
    "    d= {\"UPPER_CASE\":0,\"LOWER_CASE\":0}\n",
    "    for c in s:\n",
    "        if c.isupper():\n",
    "            d[\"UPPER_CASE\"]+=1\n",
    "        if c.islower():\n",
    "            d[\"LOWER_CASE\"]+=1\n",
    "        else:\n",
    "            pass\n",
    "    print(\"Original String:\",s)\n",
    "    print(\"No.of Upper case character:\",d[\"UPPER_CASE\"])\n",
    "    print(\"No.of Lower case Character:\",d[\"LOWER_CASE\"])\n",
    "            \n",
    "string_test('University of Warwick')"
   ]
  },
  {
   "cell_type": "code",
   "execution_count": null,
   "id": "90087434",
   "metadata": {},
   "outputs": [],
   "source": []
  }
 ],
 "metadata": {
  "kernelspec": {
   "display_name": "Python 3 (ipykernel)",
   "language": "python",
   "name": "python3"
  },
  "language_info": {
   "codemirror_mode": {
    "name": "ipython",
    "version": 3
   },
   "file_extension": ".py",
   "mimetype": "text/x-python",
   "name": "python",
   "nbconvert_exporter": "python",
   "pygments_lexer": "ipython3",
   "version": "3.9.7"
  }
 },
 "nbformat": 4,
 "nbformat_minor": 5
}
